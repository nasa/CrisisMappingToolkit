{
 "cells": [
  {
   "cell_type": "markdown",
   "metadata": {},
   "source": [
    "# Crisis Mapping Toolkit Documentation\n",
    "\n",
    "This document provides a high level overview of how to use the Crisis Mapping Toolkit (CMT).  The CMT is a set of tools built using Google's Earth Engine Python API so familiariaty with that API will be extremely useful when working with the CMT."
   ]
  },
  {
   "cell_type": "markdown",
   "metadata": {},
   "source": [
    "# Installing Earth Engine\n",
    "\n",
    "See instructions from Google here: https://docs.google.com/document/d/1tvkSGb-49YlSqW3AGknr7T_xoRB1KngCD3f2uiwOS3Q/edit"
   ]
  },
  {
   "cell_type": "markdown",
   "metadata": {},
   "source": [
    "# \"Hello Crisis Mapping Toolkit\"\n",
    "\n",
    "### Initialize Earth Engine"
   ]
  },
  {
   "cell_type": "code",
   "execution_count": 1,
   "metadata": {
    "collapsed": false
   },
   "outputs": [],
   "source": [
    "from __future__ import print_function\n",
    "import sys\n",
    "import os\n",
    "import ee\n",
    "\n",
    "# This script assumes your authentification credentials are stored as operatoring system\n",
    "# environment variables.\n",
    "#__MY_SERVICE_ACCOUNT = os.environ.get('MY_SERVICE_ACCOUNT')\n",
    "#__MY_PRIVATE_KEY_FILE = os.environ.get('MY_PRIVATE_KEY_FILE')\n",
    "# Initialize the Earth Engine object, using your authentication credentials.\n",
    "ee.Initialize()"
   ]
  },
  {
   "cell_type": "markdown",
   "metadata": {},
   "source": [
    "### Load the Crisis Mapping Toolkit"
   ]
  },
  {
   "cell_type": "code",
   "execution_count": 2,
   "metadata": {
    "collapsed": false
   },
   "outputs": [],
   "source": [
    "import cmt\n",
    "import cmt.util.evaluation\n",
    "from cmt.mapclient_qt import centerMap, addToMap\n",
    "CMT_INSTALL_FOLDER = cmt.__path__[0]"
   ]
  },
  {
   "cell_type": "markdown",
   "metadata": {},
   "source": [
    "### Load a domain\n",
    "\n",
    "A domain is a geographic location associated with certain sensor images, global data sets, and other supporting files.  A domain is described by a custom XML file and can easily be loaded in Python.  Once the XML file is loaded all of the associated data can be easily accessed.  Note that none of the images are stored locally; instead they have been uploaded to web storage locations where Earth Engine can access them."
   ]
  },
  {
   "cell_type": "code",
   "execution_count": 3,
   "metadata": {
    "collapsed": false
   },
   "outputs": [
    {
     "name": "stdout",
     "output_type": "stream",
     "text": [
      "DOMAIN: /Users/Ben/anaconda/envs/py27/lib/python2.7/site-packages/cmt/config/domains/modis/kashmore_2010_8.xml\n",
      "Reading file: /Users/Ben/anaconda/envs/py27/lib/python2.7/site-packages/cmt/config/domains/modis/kashmore_2010_8.xml\n",
      "Reading file: /Users/Ben/anaconda/envs/py27/lib/python2.7/site-packages/cmt/config/domains/modis/kashmore_north_2010_8.xml\n",
      "READING SENSOR DATA:  /Users/Ben/anaconda/envs/py27/lib/python2.7/site-packages/cmt/config/sensors/modis.xml\n",
      "Loading band: sur_refl_b01\n",
      "Loading band: sur_refl_b02\n",
      "Loading band: sur_refl_b03\n",
      "Loading band: sur_refl_b04\n",
      "Loading band: sur_refl_b05\n",
      "Loading band: sur_refl_b06\n",
      "Loading band: sur_refl_b07\n",
      "Loading band: state_1km\n",
      "Loaded sensor: modis\n",
      "READING SENSOR DATA:  /Users/Ben/anaconda/envs/py27/lib/python2.7/site-packages/cmt/config/sensors/landsat5.xml\n",
      "Loading band: blue\n",
      "Loading band: green\n",
      "Loading band: red\n",
      "Loading band: nir\n",
      "Loading band: swir1\n",
      "Loading band: temp\n",
      "Loading band: swir2\n",
      "Loaded sensor: landsat5\n",
      "READING SENSOR DATA:  /Users/Ben/anaconda/envs/py27/lib/python2.7/site-packages/cmt/config/sensors/srtm90.xml\n",
      "Loading band: elevation\n",
      "Loaded sensor: srtm90\n",
      "Reading file: /Users/Ben/anaconda/envs/py27/lib/python2.7/site-packages/cmt/config/domains/modis/unflooded_kashmore_2009.xml\n",
      "READING SENSOR DATA:  /Users/Ben/anaconda/envs/py27/lib/python2.7/site-packages/cmt/config/sensors/srtm90.xml\n",
      "Loading band: elevation\n",
      "Loaded sensor: srtm90\n",
      "READING SENSOR DATA:  /Users/Ben/anaconda/envs/py27/lib/python2.7/site-packages/cmt/config/sensors/modis.xml\n",
      "Loading band: sur_refl_b01\n",
      "Loading band: sur_refl_b02\n",
      "Loading band: sur_refl_b03\n",
      "Loading band: sur_refl_b04\n",
      "Loading band: sur_refl_b05\n",
      "Loading band: sur_refl_b06\n",
      "Loading band: sur_refl_b07\n",
      "Loading band: state_1km\n",
      "Loaded sensor: modis\n",
      "READING SENSOR DATA:  /Users/Ben/anaconda/envs/py27/lib/python2.7/site-packages/cmt/config/sensors/srtm90.xml\n",
      "Loading band: elevation\n",
      "Loaded sensor: srtm90\n",
      "READING SENSOR DATA:  /Users/Ben/anaconda/envs/py27/lib/python2.7/site-packages/cmt/config/sensors/modis.xml\n",
      "Loading band: sur_refl_b01\n",
      "Loading band: sur_refl_b02\n",
      "Loading band: sur_refl_b03\n",
      "Loading band: sur_refl_b04\n",
      "Loading band: sur_refl_b05\n",
      "Loading band: sur_refl_b06\n",
      "Loading band: sur_refl_b07\n",
      "Loading band: state_1km\n",
      "Loaded sensor: modis\n",
      "READING SENSOR DATA:  /Users/Ben/anaconda/envs/py27/lib/python2.7/site-packages/cmt/config/sensors/landsat5.xml\n",
      "Loading band: blue\n",
      "Loading band: green\n",
      "Loading band: red\n",
      "Loading band: nir\n",
      "Loading band: swir1\n",
      "Loading band: temp\n",
      "Loading band: swir2\n",
      "Loaded sensor: landsat5\n"
     ]
    }
   ],
   "source": [
    "import cmt.domain\n",
    "CMT_INSTALL_FOLDER = cmt.__path__[0]\n",
    "domainPath = CMT_INSTALL_FOLDER + '/config/domains/modis/kashmore_2010_8.xml'\n",
    "print('DOMAIN:', domainPath)\n",
    "kashmore_domain = cmt.domain.Domain()\n",
    "kashmore_domain.load_xml(domainPath)"
   ]
  },
  {
   "cell_type": "code",
   "execution_count": 5,
   "metadata": {
    "collapsed": false
   },
   "outputs": [
    {
     "data": {
      "text/plain": [
       "[srtm90, modis, landsat5]"
      ]
     },
     "execution_count": 5,
     "metadata": {},
     "output_type": "execute_result"
    }
   ],
   "source": [
    "kashmore_domain.sensor_list  # Class which holds image objects and metadata"
   ]
  },
  {
   "cell_type": "code",
   "execution_count": 8,
   "metadata": {
    "collapsed": false
   },
   "outputs": [
    {
     "data": {
      "text/plain": [
       "{'elevation': 90.0}"
      ]
     },
     "execution_count": 8,
     "metadata": {},
     "output_type": "execute_result"
    }
   ],
   "source": [
    "elevation = kashmore_domain.sensor_list[0]\n",
    "elevation.band_resolutions                   # e.g. access some metadata related to elevation image "
   ]
  },
  {
   "cell_type": "code",
   "execution_count": 10,
   "metadata": {
    "collapsed": false
   },
   "outputs": [
    {
     "data": {
      "text/plain": [
       "{u'bands': [{u'crs': u'EPSG:4326',\n",
       "   u'crs_transform': [0.000833333333333,\n",
       "    0.0,\n",
       "    -180.0,\n",
       "    0.0,\n",
       "    -0.000833333333333,\n",
       "    60.0],\n",
       "   u'data_type': {u'max': 32767,\n",
       "    u'min': -32768,\n",
       "    u'precision': u'int',\n",
       "    u'type': u'PixelType'},\n",
       "   u'dimensions': [432000, 144000],\n",
       "   u'id': u'elevation'}],\n",
       " u'id': u'CGIAR/SRTM90_V4',\n",
       " u'properties': {u'date_range': [950227200000.0, 951177600000.0],\n",
       "  u'description': u\"<p>The Shuttle Radar Topography Mission (SRTM, see    <a href='http://onlinelibrary.wiley.com/doi/10.1029/2005RG000183/full'>Farr   et al. 2007</a>) digital elevation dataset was originally produced   to provide consistent, high-quality elevation data at near global scope.   This version of the SRTM digital elevation data has been  processed to fill   data voids, and to facilitate its ease of use. The SRTM 90m has a resolution   of 90m at the equator. </p><p>This dataset contains one band, 'elevation'   (meters).</p><p>For the   creation of any reports, publications, new data sets, derived products,   or services resulting from the data set, users should cite:</p>    <p>Jarvis, A., H.I. Reuter, A. Nelson, E. Guevara. 2008. Hole-filled SRTM   for the globe Version 4, available from the CGIAR-CSI SRTM 90m Database:   <a href='http://srtm.csi.cgiar.org'>http://srtm.csi.cgiar.org</a>.</p>\",\n",
       "  u'link': u'srtm90_v4',\n",
       "  u'period': 0,\n",
       "  u'provider': u'NASA / CGIAR',\n",
       "  u'provider_url': u'http://srtm.csi.cgiar.org/',\n",
       "  u'sample': u'https://mw1.google.com/ges/dd/images/SRTM90_V4_sample.png',\n",
       "  u'system:asset_size': 18827626666,\n",
       "  u'system:time_end': 951177600000,\n",
       "  u'system:time_start': 950227200000,\n",
       "  u'system:visualization_0_bands': u'elevation',\n",
       "  u'system:visualization_0_gamma': 1.6,\n",
       "  u'system:visualization_0_max': 10000,\n",
       "  u'system:visualization_0_min': 0,\n",
       "  u'system:visualization_0_name': u'Elevation',\n",
       "  u'tags': [u'nasa',\n",
       "   u'cgiar',\n",
       "   u'srtm',\n",
       "   u'elevation',\n",
       "   u'topography',\n",
       "   u'dem',\n",
       "   u'geophysical'],\n",
       "  u'thumb': u'https://mw1.google.com/ges/dd/images/SRTM90_V4_thumb.png',\n",
       "  u'title': u'SRTM Digital Elevation Data Version 4'},\n",
       " u'type': u'Image',\n",
       " u'version': 1481149844193000}"
      ]
     },
     "execution_count": 10,
     "metadata": {},
     "output_type": "execute_result"
    }
   ],
   "source": [
    "elevation.elevation.getInfo()              # Simply call the E.E. function getInfo on the image directly"
   ]
  },
  {
   "cell_type": "markdown",
   "metadata": {},
   "source": [
    "### Display the domain"
   ]
  },
  {
   "cell_type": "code",
   "execution_count": null,
   "metadata": {
    "collapsed": false
   },
   "outputs": [],
   "source": [
    "import cmt.util.gui_util\n",
    "cmt.util.gui_util.visualizeDomain(kashmore_domain)"
   ]
  },
  {
   "cell_type": "markdown",
   "metadata": {
    "collapsed": false
   },
   "source": [
    "A GUI should appear in a seperate window displaying the domain location.  If the GUI does not appear, try restarting the IPython kernel and trying again.  This is the default GUI used by the CMT.  It is an enhanced version of the GUI provided with the Earth Engine Python API and behaves similarly to the Earth Engine online \"playground\" interface.\n",
    "\n",
    "#### Basic GUI instructions:\n",
    "- You can move the view location by clicking and dragging.\n",
    "- You can zoom in and out using the mouse wheel.\n",
    "- Right clicking the view brings up a context menu with the following:\n",
    "  - The lat/lon coordinate where you clicked.\n",
    "  - The list of currently loaded image layers.\n",
    "  - An opacity slider for each image layer.\n",
    "  - The value for each image layer at the location you clicked.\n",
    "  - A button which will save the current view as a geotiff file.\n",
    "  \n",
    "### Call a classification algorithm"
   ]
  },
  {
   "cell_type": "code",
   "execution_count": null,
   "metadata": {
    "collapsed": false
   },
   "outputs": [],
   "source": [
    "from cmt.modis.flood_algorithms import *\n",
    "\n",
    "# Select the algorithm to use and then call it\n",
    "algorithm = DIFFERENCE\n",
    "(alg, result) = detect_flood(kashmore_domain, algorithm)\n",
    "\n",
    "# Get a color pre-associated with the algorithm, then draw it on the map\n",
    "color = get_algorithm_color(algorithm)\n",
    "addToMap(result.mask(result), {'min': 0, 'max': 1, 'opacity': 0.5, 'palette': '000000, ' + color}, alg, False)"
   ]
  },
  {
   "cell_type": "markdown",
   "metadata": {},
   "source": [
    "#### Classifier output\n",
    "- The algorithm output should have been added to the GUI as another image layer.\n",
    "- Each classifier algorithm evaluates each pixel as flooded(1) or dry (0).  Some algorithms will return a probability of being flooded ranging from 0 to 1.\n",
    "\n",
    "### Evaluate classification results"
   ]
  },
  {
   "cell_type": "code",
   "execution_count": null,
   "metadata": {
    "collapsed": false,
    "scrolled": true
   },
   "outputs": [],
   "source": [
    "precision, recall, eval_count, quality = cmt.util.evaluation.evaluate_approach(result, kashmore_domain.ground_truth, kashmore_domain.bounds, is_algorithm_fractional(algorithm))\n",
    "print('For algorithm \"%s\", precision = %f and recall = %f' % (alg, precision, recall) )\n",
    "    "
   ]
  },
  {
   "cell_type": "markdown",
   "metadata": {},
   "source": [
    "#### Interpreting results\n",
    "\n",
    "The two main scores for evaluating an algorithm are \"precision\" and \"recall\".  \n",
    "- Precision is a measure of how many false positives the algorithm has.  It is calculated as: (number of pixels classified as flooded which are actually flooded) / (number of pixels classified as flooded)\n",
    "- Recall is a measure of how sensitive to flooding the algorithm is.  It is calculated as: (number of pixels classified as flooded which are actually flooded) / (total number of flooded pixels)\n",
    "\n",
    "In order for these measurements to be computed the domain must have a ground truth file associated with it which labels each pixel as flooded or dry.\n",
    "\n",
    "\n",
    "#### End of introduction\n",
    "\n",
    "The documentation so far covers most of the code used to write a file such as the tool detect_flood_modis.py.  The rest of the documentation covers different aspects of the CMT in more detail.\n"
   ]
  },
  {
   "cell_type": "markdown",
   "metadata": {},
   "source": [
    "# Supported Sensor Data\n",
    "\n",
    "The Crisis Mapping Toolkit has so far been used with the following types of data:\n",
    "- MODIS = 250m to 500m satellite imagery covering the globe daily.\n",
    "- LANDSAT = 30m satellite imagery with global coverage but infrequent images.\n",
    "- DEM = Earth Engine provides the SRTM90 and NED13 digital elevation maps.\n",
    "- Skybox = Google owned RGBN imaging satellites.\n",
    "- SAR = Cloud penetrating radar data.  Several specific sources have been tested:\n",
    "  - UAVSAR\n",
    "  - Sentinel-1\n",
    "  - Terrasar-X\n",
    "\n",
    "MODIS and LANDSAT data are the easiest types to work with because Earth Engine already has all of that data loaded and easily accessible.  SAR data on the other hand can be difficult or expensive to get ahold of.\n",
    "\n",
    "Most of the processing algorithms currently in CMT are for processing MODIS or SAR data and are split between the modis and radar folders.  Some of the algorithms, such as the active contour, can also operate on other types of data.\n",
    "\n",
    "Instructions for how to load your own data are located in the \"Domains\" section of this documentation.\n",
    "\n"
   ]
  },
  {
   "cell_type": "markdown",
   "metadata": {},
   "source": [
    "# Algorithm Overviews\n",
    "\n",
    "The algorithms currently implemented by the CMT fall into these categories:\n",
    "\n",
    "MODIS\n",
    " - Simple algorithms = Basic thresholding and small decision tree algorithms.\n",
    " - EE Classifiers = These algorithms are built around Earth Engine's classifier tool.\n",
    " - DNNS = Variants of the DNNS algorithm (http://ieeexplore.ieee.org/stamp/stamp.jsp?arnumber=6307841)\n",
    " - Adaboost = Uses multiple instances of the simple algorithms to build a more accurate composite classification.\n",
    " - Misc algorithms = A few other algorithms outside those categories.\n",
    "\n",
    "RADAR\n",
    " - Learning = Algorithms built around Earth Engine's classifier tool.\n",
    " - Matgen = An algorithm which attempts to detect water using find a global histogram split. (http://www.sciencedirect.com/science/article/pii/S1474706510002160)\n",
    " - Martinis = Breaks up the region into sub-regions to try and obtain a more useful histogram to split (http://www.nat-hazards-earth-syst-sci.net/9/303/2009/nhess-9-303-2009.pdf)\n",
    " - Active Contour = A \"snake\" algorithm for finding water boundaries.\n",
    "\n",
    "Skybox\n",
    " - The MODIS EE Classifiers can incorporate Skybox imagery to improve their results.\n",
    " - The Active Contour algorithm can be used on Skybox data.\n",
    "\n"
   ]
  },
  {
   "cell_type": "markdown",
   "metadata": {},
   "source": [
    "# The Production GUI\n",
    "\n",
    "In addition to the default GUI, the Crisis Mapping Toolkit has another GUI customized to perform a few useful operations.  It is accessible by running the \"flood_detection_wizard.py\" tool.  The main map portion of the production GUI is the same as in the default GUI but there are additional controls above and below the map window.\n",
    "\n",
    "#### Why use the production GUI?\n",
    "- Easily search through MODIS and Landsat data.  The production GUI lets you quickly change the date and then searches for the closest Landsat data.\n",
    "- Quickly perform basic MODIS flood detection.  The controls at the bottom allow quick tuning of a simple flood detection algorithm on the currently displayed MODIS data.\n",
    "- Generate training data.  You can use the production GUI to create labled training polygons to load into several of the classifier algorithms.\n",
    "\n",
    "<br>\n",
    "<img src=\"production_gui_screenshot.png\">\n",
    "<center> A screenshot of the Production GUI </center>\n",
    "\n",
    "#### Top buttons from left to right\n",
    "- Date Selector Button = Choose the date of interest.  MODIS data will be loaded from that date and LANDSAT data will be searched for nearby that date.\n",
    "- Set Processing Region = When clicked the current field of view in the map will be set as the region of interest.  This region is used when searching for LANDSAT images and performing flood detection.\n",
    "- Load Images = Once the data and region have been set, press this button to search for MODIS and LANDSAT data.  The data should be added to the main map display.\n",
    "- Detect Flood = Run a flood detection algorithm using the values currently set by the sliders at the bottom of the GUI.  Flood detection results will be displayed in the main map display.\n",
    "- Load Maps Engine Image = Paste the full Earth Engine ID from an image loaded in Google Maps Engine, then select the associated sensor type and click \"Ok\".  The image will now be displayed on the main map display.  Currently only one image at a time is supported.\n",
    "- Open Class Trainer = Opens another window for generating training regions.\n",
    "- Clear Map Button = Click this to remove all images from the main map display.\n",
    "\n",
    "#### How to load MODIS/LANDSAT data\n",
    "- Click the date select button and pick a date.\n",
    "- Pan and zoom to your region of interest and click \"Set Processing Region\".\n",
    "- Click \"Load Images\"\n",
    "\n",
    "#### How to detect floods\n",
    "- Perform the three steps above to load MODIS and LANDSAT data.\n",
    "- Adjust the two sliders at the bottom to set the algorithm parameters.\n",
    "    - Change Detection Threshold = Decrease this value to detect more pixels as flooded.\n",
    "    - Water Mask Threshold = Increase this value to detect more pixels as flooded.\n",
    "- Click \"Detect Flood\"\n",
    "\n",
    "#### How to generate training regions for classifiers\n",
    "- Load the imagery you want to look at while selecting regions, either MODIS/LANDSAT data or by  clicking \"Load ME image\".\n",
    "- Click \"Open Class Trainer\"\n",
    "- Use the text editor box to enter the name of a region.  Each name should contain either \"Land\" or \"Water\" to let the classifiers know how to use that region.\n",
    "- Press \"Add New Class\" to add the named region to the class list.\n",
    "- To select a class, click its name in the list.  When a class is selected you cannot drag the map view around!\n",
    "- To unselect a class (so you can reposition the map) click \"Deselect Class\"\n",
    "- You can delete a selected class from the list by clicking \"Delete Class\"\n",
    "- To set the region for a selected class just click on locations in the main map view.  The points you click will form a polygon which should be drawn in the main map view.\n",
    "- The main map view should keep updated with the polygon of the currently selected class but you may see some transient drawing artifacts.\n",
    "- Click \"Save Class File\" to write a json file storing the training data.\n",
    "- Click \"Load Class File\" to load an existing json class file.\n",
    "\n",
    "\n",
    "\n",
    "\n",
    "\n",
    "\n"
   ]
  },
  {
   "cell_type": "markdown",
   "metadata": {},
   "source": [
    "# Working With Domains\n",
    "\n",
    "#### The Domain Concept\n",
    "\n",
    "A Domain consists of a region, training information, and a list of descriptions of avialable sensor data.  They can be easily loaded from XML files and the existing algorithms are all designed to take domain objects as input.  MODIS and DEM data are almost always available in any domain.  Instructions for creating a custom domain XML file are in the next section.\n",
    "\n",
    "#### Anatomy of a Domain File\n",
    "\n",
    "To use a custom domain generally requires three files:\n",
    "- A sensor definition XML file.  Only one of these is needed per sensor.  It defines the bands, data characteristics, and possibly the data source.\n",
    "- A test domain XML file.  This defines the geographic region, algorithm parameters, training and truth information, dates, and other other source information.\n",
    "- A training domain XML file.  This is similar to the test domain file except that it will specify a different date or location to collect training data from.\n",
    "\n",
    "\n",
    "For more detailed descriptions of all the possible contents of a domain file, check out the domain_example and sensor_example XML files and all of the real config files that are included with the Crisis Mapping Toolkit.\n",
    "\n",
    "#### Code Examples\n",
    "\n",
    "Here are some examples of code working with the Domain class in Python:\n"
   ]
  },
  {
   "cell_type": "code",
   "execution_count": null,
   "metadata": {
    "collapsed": true
   },
   "outputs": [],
   "source": [
    "# Access a specific parameter listed in the domain file\n",
    "kashmore_domain.algorithm_parameters['modis_diff_threshold']\n",
    "\n",
    "# Call this function to get whatever digital elevation map is available.\n",
    "dem = kashmore_domain.get_dem()\n",
    "\n",
    "# All the sensors included in the domain are stored as a list\n",
    "first_sensor = kashmore_domain.sensor_list[0]\n",
    "\n",
    "# If you know the name of a sensor you can access it like this\n",
    "modis_sensor = kashmore_domain.modis\n",
    "\n",
    "# Then you can access individual sensor bands like this\n",
    "one_band = modis_sensor.sur_refl_b03\n",
    "\n",
    "# To get the EE image object containing all the bands, do this\n",
    "all_bands = modis.image\n",
    "\n",
    "# The sensor contains some other information,\n",
    "#   but only if the information is present in the XML files\n",
    "first_band_name       = band_names[0]\n",
    "first_band_resolution = modis.band_resolutions[first_band_name]\n",
    "\n",
    "# Related domains have the same structure as the main domain\n",
    "#  and can be accessed like this\n",
    "kashmore_domain.training_domain\n",
    "kashmore_domain.unflooded_domain\n"
   ]
  },
  {
   "cell_type": "markdown",
   "metadata": {},
   "source": [
    "# Other Crisis Mapping Features\n",
    "\n",
    "#### The Local Image Class\n",
    "Earth Engine is very powerful but it is not well suited for all tasks.  In these cases you can use the LocalEEImage class to easily download image data from Earth Engine and work with it locally using whatever Python image processing method you prefer.  You can see an example of doing this in the Active Contour algorithm.\n",
    "\n"
   ]
  },
  {
   "cell_type": "code",
   "execution_count": null,
   "metadata": {
    "collapsed": true
   },
   "outputs": [],
   "source": [
    "\n",
    "\n"
   ]
  }
 ],
 "metadata": {
  "kernelspec": {
   "display_name": "Python 2",
   "language": "python",
   "name": "python2"
  },
  "language_info": {
   "codemirror_mode": {
    "name": "ipython",
    "version": 2
   },
   "file_extension": ".py",
   "mimetype": "text/x-python",
   "name": "python",
   "nbconvert_exporter": "python",
   "pygments_lexer": "ipython2",
   "version": "2.7.11"
  }
 },
 "nbformat": 4,
 "nbformat_minor": 0
}
